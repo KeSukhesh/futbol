{
 "cells": [
  {
   "cell_type": "code",
   "execution_count": 3,
   "id": "2995fa6c-5d2e-451d-8ef4-681022f50293",
   "metadata": {},
   "outputs": [
    {
     "ename": "TimeoutException",
     "evalue": "Message: timeout: Timed out receiving message from renderer: 299.909\n  (Session info: chrome=123.0.6312.122)\nStacktrace:\n#0 0x5574fe354863 <unknown>\n#1 0x5574fe04a8c6 <unknown>\n#2 0x5574fe0327a0 <unknown>\n#3 0x5574fe032485 <unknown>\n#4 0x5574fe030516 <unknown>\n#5 0x5574fe030b9f <unknown>\n#6 0x5574fe040e65 <unknown>\n#7 0x5574fe05664c <unknown>\n#8 0x5574fe05bc2b <unknown>\n#9 0x5574fe031222 <unknown>\n#10 0x5574fe0563c4 <unknown>\n#11 0x5574fe0d5f4a <unknown>\n#12 0x5574fe0b7343 <unknown>\n#13 0x5574fe088593 <unknown>\n#14 0x5574fe088f5e <unknown>\n#15 0x5574fe31884b <unknown>\n#16 0x5574fe31c7a5 <unknown>\n#17 0x5574fe306571 <unknown>\n#18 0x5574fe31d332 <unknown>\n#19 0x5574fe2eb87f <unknown>\n#20 0x5574fe343728 <unknown>\n#21 0x5574fe3438fb <unknown>\n#22 0x5574fe3539b4 <unknown>\n#23 0x7fd070520ac3 <unknown>\n",
     "output_type": "error",
     "traceback": [
      "\u001b[0;31m---------------------------------------------------------------------------\u001b[0m",
      "\u001b[0;31mTimeoutException\u001b[0m                          Traceback (most recent call last)",
      "Cell \u001b[0;32mIn[3], line 14\u001b[0m\n\u001b[1;32m     11\u001b[0m all_matches \u001b[38;5;241m=\u001b[39m []\n\u001b[1;32m     13\u001b[0m \u001b[38;5;28;01mfor\u001b[39;00m year \u001b[38;5;129;01min\u001b[39;00m years:\n\u001b[0;32m---> 14\u001b[0m     \u001b[43mdriver\u001b[49m\u001b[38;5;241;43m.\u001b[39;49m\u001b[43mget\u001b[49m\u001b[43m(\u001b[49m\u001b[43mstandings_url\u001b[49m\u001b[43m)\u001b[49m\n\u001b[1;32m     15\u001b[0m     time\u001b[38;5;241m.\u001b[39msleep(\u001b[38;5;241m5\u001b[39m)\n\u001b[1;32m     17\u001b[0m     soup \u001b[38;5;241m=\u001b[39m BeautifulSoup(driver\u001b[38;5;241m.\u001b[39mpage_source, \u001b[38;5;124m'\u001b[39m\u001b[38;5;124mhtml.parser\u001b[39m\u001b[38;5;124m'\u001b[39m)\n",
      "File \u001b[0;32m~/.local/lib/python3.10/site-packages/selenium/webdriver/remote/webdriver.py:356\u001b[0m, in \u001b[0;36mWebDriver.get\u001b[0;34m(self, url)\u001b[0m\n\u001b[1;32m    354\u001b[0m \u001b[38;5;28;01mdef\u001b[39;00m \u001b[38;5;21mget\u001b[39m(\u001b[38;5;28mself\u001b[39m, url: \u001b[38;5;28mstr\u001b[39m) \u001b[38;5;241m-\u001b[39m\u001b[38;5;241m>\u001b[39m \u001b[38;5;28;01mNone\u001b[39;00m:\n\u001b[1;32m    355\u001b[0m \u001b[38;5;250m    \u001b[39m\u001b[38;5;124;03m\"\"\"Loads a web page in the current browser session.\"\"\"\u001b[39;00m\n\u001b[0;32m--> 356\u001b[0m     \u001b[38;5;28;43mself\u001b[39;49m\u001b[38;5;241;43m.\u001b[39;49m\u001b[43mexecute\u001b[49m\u001b[43m(\u001b[49m\u001b[43mCommand\u001b[49m\u001b[38;5;241;43m.\u001b[39;49m\u001b[43mGET\u001b[49m\u001b[43m,\u001b[49m\u001b[43m \u001b[49m\u001b[43m{\u001b[49m\u001b[38;5;124;43m\"\u001b[39;49m\u001b[38;5;124;43murl\u001b[39;49m\u001b[38;5;124;43m\"\u001b[39;49m\u001b[43m:\u001b[49m\u001b[43m \u001b[49m\u001b[43murl\u001b[49m\u001b[43m}\u001b[49m\u001b[43m)\u001b[49m\n",
      "File \u001b[0;32m~/.local/lib/python3.10/site-packages/selenium/webdriver/remote/webdriver.py:347\u001b[0m, in \u001b[0;36mWebDriver.execute\u001b[0;34m(self, driver_command, params)\u001b[0m\n\u001b[1;32m    345\u001b[0m response \u001b[38;5;241m=\u001b[39m \u001b[38;5;28mself\u001b[39m\u001b[38;5;241m.\u001b[39mcommand_executor\u001b[38;5;241m.\u001b[39mexecute(driver_command, params)\n\u001b[1;32m    346\u001b[0m \u001b[38;5;28;01mif\u001b[39;00m response:\n\u001b[0;32m--> 347\u001b[0m     \u001b[38;5;28;43mself\u001b[39;49m\u001b[38;5;241;43m.\u001b[39;49m\u001b[43merror_handler\u001b[49m\u001b[38;5;241;43m.\u001b[39;49m\u001b[43mcheck_response\u001b[49m\u001b[43m(\u001b[49m\u001b[43mresponse\u001b[49m\u001b[43m)\u001b[49m\n\u001b[1;32m    348\u001b[0m     response[\u001b[38;5;124m\"\u001b[39m\u001b[38;5;124mvalue\u001b[39m\u001b[38;5;124m\"\u001b[39m] \u001b[38;5;241m=\u001b[39m \u001b[38;5;28mself\u001b[39m\u001b[38;5;241m.\u001b[39m_unwrap_value(response\u001b[38;5;241m.\u001b[39mget(\u001b[38;5;124m\"\u001b[39m\u001b[38;5;124mvalue\u001b[39m\u001b[38;5;124m\"\u001b[39m, \u001b[38;5;28;01mNone\u001b[39;00m))\n\u001b[1;32m    349\u001b[0m     \u001b[38;5;28;01mreturn\u001b[39;00m response\n",
      "File \u001b[0;32m~/.local/lib/python3.10/site-packages/selenium/webdriver/remote/errorhandler.py:229\u001b[0m, in \u001b[0;36mErrorHandler.check_response\u001b[0;34m(self, response)\u001b[0m\n\u001b[1;32m    227\u001b[0m         alert_text \u001b[38;5;241m=\u001b[39m value[\u001b[38;5;124m\"\u001b[39m\u001b[38;5;124malert\u001b[39m\u001b[38;5;124m\"\u001b[39m]\u001b[38;5;241m.\u001b[39mget(\u001b[38;5;124m\"\u001b[39m\u001b[38;5;124mtext\u001b[39m\u001b[38;5;124m\"\u001b[39m)\n\u001b[1;32m    228\u001b[0m     \u001b[38;5;28;01mraise\u001b[39;00m exception_class(message, screen, stacktrace, alert_text)  \u001b[38;5;66;03m# type: ignore[call-arg]  # mypy is not smart enough here\u001b[39;00m\n\u001b[0;32m--> 229\u001b[0m \u001b[38;5;28;01mraise\u001b[39;00m exception_class(message, screen, stacktrace)\n",
      "\u001b[0;31mTimeoutException\u001b[0m: Message: timeout: Timed out receiving message from renderer: 299.909\n  (Session info: chrome=123.0.6312.122)\nStacktrace:\n#0 0x5574fe354863 <unknown>\n#1 0x5574fe04a8c6 <unknown>\n#2 0x5574fe0327a0 <unknown>\n#3 0x5574fe032485 <unknown>\n#4 0x5574fe030516 <unknown>\n#5 0x5574fe030b9f <unknown>\n#6 0x5574fe040e65 <unknown>\n#7 0x5574fe05664c <unknown>\n#8 0x5574fe05bc2b <unknown>\n#9 0x5574fe031222 <unknown>\n#10 0x5574fe0563c4 <unknown>\n#11 0x5574fe0d5f4a <unknown>\n#12 0x5574fe0b7343 <unknown>\n#13 0x5574fe088593 <unknown>\n#14 0x5574fe088f5e <unknown>\n#15 0x5574fe31884b <unknown>\n#16 0x5574fe31c7a5 <unknown>\n#17 0x5574fe306571 <unknown>\n#18 0x5574fe31d332 <unknown>\n#19 0x5574fe2eb87f <unknown>\n#20 0x5574fe343728 <unknown>\n#21 0x5574fe3438fb <unknown>\n#22 0x5574fe3539b4 <unknown>\n#23 0x7fd070520ac3 <unknown>\n"
     ]
    }
   ],
   "source": [
    "import time\n",
    "import pandas as pd\n",
    "from bs4 import BeautifulSoup\n",
    "from selenium import webdriver\n",
    "\n",
    "years = list(range(2024, 2023, -1))\n",
    "standings_url = \"https://fbref.com/en/comps/9/Premier-League-Stats\"\n",
    "\n",
    "driver = webdriver.Chrome()\n",
    "\n",
    "all_matches = []\n",
    "\n",
    "for year in years:\n",
    "    driver.get(standings_url)\n",
    "    time.sleep(5)\n",
    "    \n",
    "    soup = BeautifulSoup(driver.page_source, 'html.parser')\n",
    "    standings_table = soup.select('table.stats_table')[0]\n",
    "\n",
    "    links = [l.get(\"href\") for l in standings_table.find_all('a')]\n",
    "    links = [l for l in links if '/squads/' in l]\n",
    "    team_urls = [f\"https://fbref.com{l}\" for l in links]\n",
    "    \n",
    "    previous_season = soup.select(\"a.prev\")[0].get(\"href\")\n",
    "    standings_url = f\"https://fbref.com{previous_season}\"\n",
    "    \n",
    "    for team_url in team_urls:\n",
    "        team_name = team_url.split(\"/\")[-1].replace(\"-Stats\", \"\").replace(\"-\", \" \")\n",
    "        driver.get(team_url)\n",
    "        time.sleep(5)\n",
    "        \n",
    "        soup = BeautifulSoup(driver.page_source, 'html.parser')\n",
    "        matches = pd.read_html(str(soup), match=\"Scores & Fixtures\")[0]\n",
    "        \n",
    "        for stat_type in [\"Shooting\", \"Goalkeeping\", \"Passing\", \"Passing Types\", \n",
    "                          \"Goal and Shot Creation\", \"Defensive Actions\", \"Possession\", \"Miscellaneous Stats\"]:\n",
    "            links = [l.get(\"href\") for l in soup.find_all('a')]\n",
    "            links = [l for l in links if l and f'all_comps/{stat_type}/' in l]\n",
    "            if not links:\n",
    "                continue\n",
    "            driver.get(f\"https://fbref.com{links[0]}\")\n",
    "            time.sleep(5)\n",
    "            \n",
    "            soup = BeautifulSoup(driver.page_source, 'html.parser')\n",
    "            stat_table = pd.read_html(str(soup), match=stat_type.capitalize())[0]\n",
    "            stat_table.columns = stat_table.columns.droplevel()\n",
    "            \n",
    "            try:\n",
    "                team_data = matches.merge(stat_table, on=\"Date\")\n",
    "            except ValueError:\n",
    "                continue\n",
    "            \n",
    "            team_data = team_data[team_data[\"Comp\"] == \"Premier League\"]\n",
    "            team_data[\"Season\"] = year\n",
    "            team_data[\"Team\"] = team_name\n",
    "            all_matches.append(team_data)\n",
    "            \n",
    "            time.sleep(1)\n",
    "\n",
    "driver.quit()\n",
    "match_df = pd.concat(all_matches)\n",
    "match_df.columns = [c.lower() for c in match_df.columns]\n",
    "match_df.to_csv(\"matches.csv\")"
   ]
  }
 ],
 "metadata": {
  "kernelspec": {
   "display_name": "Python 3 (ipykernel)",
   "language": "python",
   "name": "python3"
  },
  "language_info": {
   "codemirror_mode": {
    "name": "ipython",
    "version": 3
   },
   "file_extension": ".py",
   "mimetype": "text/x-python",
   "name": "python",
   "nbconvert_exporter": "python",
   "pygments_lexer": "ipython3",
   "version": "3.10.12"
  }
 },
 "nbformat": 4,
 "nbformat_minor": 5
}
